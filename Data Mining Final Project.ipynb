{
 "cells": [
  {
   "cell_type": "code",
   "execution_count": 1,
   "metadata": {},
   "outputs": [],
   "source": [
    "import numpy as np\n",
    "import pandas as pd\n",
    "import matplotlib.pyplot as plt\n",
    "import sklearn\n",
    "import seaborn as sns\n",
    "from sklearn.linear_model import LogisticRegression\n",
    "from sklearn.metrics import roc_auc_score, roc_curve, auc\n",
    "import pylab\n",
    "import scipy.stats as stats\n",
    "import statsmodels.api as sm\n",
    "from sklearn.metrics import mean_squared_error, r2_score\n",
    "from sklearn.preprocessing import PolynomialFeatures\n",
    "from sklearn.model_selection import train_test_split\n",
    "from sklearn.impute import KNNImputer\n",
    "from sklearn.metrics import confusion_matrix\n",
    "from sklearn.metrics import roc_curve\n",
    "from scipy.stats import skew\n",
    "from sklearn.impute import MissingIndicator\n",
    "from sklearn.ensemble import RandomForestClassifier\n",
    "from sklearn import ensemble\n",
    "from sklearn.utils import shuffle\n",
    "from sklearn.metrics import mean_squared_error\n",
    "from itertools import cycle\n",
    "import time\n",
    "from sklearn.metrics import plot_roc_curve\n",
    "from sklearn.ensemble import GradientBoostingRegressor\n",
    "from sklearn.metrics import precision_score,f1_score, recall_score, accuracy_score"
   ]
  },
  {
   "cell_type": "markdown",
   "metadata": {},
   "source": [
    "data = pd.read_csv(\"/Users/QUAN/Documents/PHY_TRAIN.csv\")\n",
    "indicator = MissingIndicator(features = 'missing-only')\n",
    "missing = indicator.fit_transform(data)\n",
    "missing.astype(int)\n",
    "imputer = KNNImputer(n_neighbors = 5)\n",
    "data = imputer.fit_transform(data)\n",
    "data = pd.DataFrame(data=data[0:,0:], columns = [\"exampleid\",\"target\",\"feat1\",\"feat2\",\"feat3\",\"feat4\",\"feat5\",\"feat6\",\"feat7\",\"feat8\",\"feat9\",\"feat10\",\"feat11\",\"feat12\",\"feat13\",\"feat14\",\"feat15\",\"feat16\",\"feat17\",\"feat18\",\"feat19\",\"feat20\",\"feat21\",\"feat22\",\"feat23\",\"feat24\",\"feat25\",\"feat26\",\"feat27\",\"feat28\",\"feat29\",\"feat30\",\"feat31\",\"feat32\",\"feat33\",\"feat34\",\"feat35\",\"feat36\",\"feat37\",\"feat38\",\"feat39\",\"feat40\",\"feat41\",\"feat42\",\"feat43\",\"feat44\",\"feat45\",\"feat46\",\"feat47\",\"feat48\",\"feat49\",\"feat50\",\"feat51\",\"feat52\",\"feat53\",\"feat54\",\"feat55\",\"feat56\",\"feat57\",\"feat58\",\"feat59\",\"feat60\",\"feat61\",\"feat62\",\"feat63\",\"feat64\",\"feat65\",\"feat66\",\"feat67\",\"feat68\",\"feat69\",\"feat70\",\"feat71\",\"feat72\",\"feat73\",\"feat74\",\"feat75\",\"feat76\",\"feat77\",\"feat78\"])\n",
    "data = data.to_csv(\"PHY_TRAINPROCESSED.csv\")\n",
    "\n"
   ]
  },
  {
   "cell_type": "code",
   "execution_count": 2,
   "metadata": {},
   "outputs": [],
   "source": [
    "#I used the Missing Indicator and then KNN Imputer to fill in Missing Values which was done using the code above. So then I exported the Preprocessed Data to a csv so I dont have to keep running the preprocessing over and over again.\n",
    "data = pd.read_csv(\"/Users/QUAN/Documents/PHY_TRAINPROCESSED.csv\")\n",
    "data = data.drop([\"Unnamed: 0\"],axis = 1)"
   ]
  },
  {
   "cell_type": "markdown",
   "metadata": {},
   "source": [
    "#Returns the columns with missing or null values\n",
    "missing = data.columns[data.isnull().any()]\n",
    "\n",
    "for x in missing:\n",
    "    data[x] = data[x].fillna(data[x].mean())\n",
    "        "
   ]
  },
  {
   "cell_type": "code",
   "execution_count": 3,
   "metadata": {},
   "outputs": [
    {
     "name": "stderr",
     "output_type": "stream",
     "text": [
      "/Users/QUAN/opt/anaconda3/lib/python3.7/site-packages/sklearn/linear_model/_logistic.py:940: ConvergenceWarning: lbfgs failed to converge (status=1):\n",
      "STOP: TOTAL NO. of ITERATIONS REACHED LIMIT.\n",
      "\n",
      "Increase the number of iterations (max_iter) or scale the data as shown in:\n",
      "    https://scikit-learn.org/stable/modules/preprocessing.html\n",
      "Please also refer to the documentation for alternative solver options:\n",
      "    https://scikit-learn.org/stable/modules/linear_model.html#logistic-regression\n",
      "  extra_warning_msg=_LOGISTIC_SOLVER_CONVERGENCE_MSG)\n"
     ]
    },
    {
     "name": "stdout",
     "output_type": "stream",
     "text": [
      "0.33657777777777775\n",
      "-0.3466332497245914\n",
      "Precision Score:  0.6583205278857452\n",
      "F1 Score:  0.657933962690275\n",
      "Recall Score:  0.6575478512098231\n",
      "Accuracy Score:  0.6634222222222222\n"
     ]
    },
    {
     "data": {
      "text/plain": [
       "'\\nplt.figure()\\nlw = 2\\nplt.plot(fpr, tpr, color=\\'darkorange\\',lw=lw, label=\\'ROC curve (area = %0.2f)\\' % roc_auc)\\nplt.plot([0, 1], [0, 1], color=\\'navy\\', lw=lw, linestyle=\\'--\\')\\nplt.xlim([0.0, 1.0])\\nplt.ylim([0.0, 1.05])\\nplt.xlabel(\\'False Positive Rate\\')\\nplt.ylabel(\\'True Positive Rate\\')\\nplt.title(\\'Receiver operating characteristic example\\')\\nplt.legend(loc=\"lower right\")\\nplt.show()\\n\\n'"
      ]
     },
     "execution_count": 3,
     "metadata": {},
     "output_type": "execute_result"
    },
    {
     "data": {
      "image/png": "[encoded data removed]",
      "text/plain": [
       "<Figure size 432x288 with 1 Axes>"
      ]
     },
     "metadata": {
      "needs_background": "light"
     },
     "output_type": "display_data"
    }
   ],
   "source": [
    "#Logistic Regression with Interactions. The test size is 35% of the data. I computed the RMSE and R^2 of each model and plotted the ROC Curve.\n",
    "predictors = data.drop([\"target\",\"exampleid\"],axis=1)\n",
    "response = data[\"target\"]\n",
    "x_train_value, x_value, y_train_value, y_value = train_test_split(predictors, response, test_size = 0.45, random_state = 0)\n",
    "\n",
    "np.random.seed(0)\n",
    "polynomial_features = PolynomialFeatures(degree=2)\n",
    "x_poly = polynomial_features.fit_transform(x_train_value)\n",
    "x_test_poly = polynomial_features.fit_transform(x_value)\n",
    "\n",
    "model = LogisticRegression()\n",
    "model.fit(x_poly, y_train_value)\n",
    "y_poly_pred = model.predict(x_test_poly)\n",
    "prob = model.decision_function(x_test_poly)\n",
    "mse = mean_squared_error(y_value,y_poly_pred)\n",
    "r2 = r2_score(y_value,y_poly_pred)\n",
    "print(mse)\n",
    "print(r2)\n",
    "\n",
    "tn, fp, fn, tp = confusion_matrix(y_value, y_poly_pred).ravel()\n",
    "fpr, tpr, _ = roc_curve(y_poly_pred,prob)\n",
    "#roc_auc = auc(fpr, tpr)\n",
    "\n",
    "ax = plt.gca()\n",
    "lr_disp = plot_roc_curve(model, x_test_poly, y_value, ax=ax, alpha=0.8)\n",
    "plt.xlabel('False Positive Rate')\n",
    "plt.ylabel('True Positive Rate')\n",
    "plt.title('ROC Logistic Regression with Interactions')\n",
    "\n",
    "precision = precision_score(y_value, y_poly_pred)\n",
    "F1 = f1_score(y_value, y_poly_pred)\n",
    "recall = recall_score(y_value, y_poly_pred)\n",
    "accuracy = accuracy_score(y_value, y_poly_pred)\n",
    "print(\"Precision Score: \", precision)\n",
    "print(\"F1 Score: \", F1)\n",
    "print(\"Recall Score: \", recall)\n",
    "print(\"Accuracy Score: \", accuracy)\n",
    "\n",
    "\"\"\"\n",
    "plt.figure()\n",
    "lw = 2\n",
    "plt.plot(fpr, tpr, color='darkorange',lw=lw, label='ROC curve (area = %0.2f)' % roc_auc)\n",
    "plt.plot([0, 1], [0, 1], color='navy', lw=lw, linestyle='--')\n",
    "plt.xlim([0.0, 1.0])\n",
    "plt.ylim([0.0, 1.05])\n",
    "plt.xlabel('False Positive Rate')\n",
    "plt.ylabel('True Positive Rate')\n",
    "plt.title('Receiver operating characteristic example')\n",
    "plt.legend(loc=\"lower right\")\n",
    "plt.show()\n",
    "\n",
    "\"\"\""
   ]
  },
  {
   "cell_type": "code",
   "execution_count": 5,
   "metadata": {},
   "outputs": [
    {
     "name": "stdout",
     "output_type": "stream",
     "text": [
      "Training R^2:  -0.22642671640703904\n",
      "Training MSE:  0.3065333333333333\n",
      "Precision Score:  0.6878202247191011\n",
      "F1 Score:  0.6893383180937797\n",
      "Recall Score:  0.6908631274828458\n",
      "Accuracy Score:  0.6934666666666667\n"
     ]
    },
    {
     "name": "stderr",
     "output_type": "stream",
     "text": [
      "/Users/QUAN/opt/anaconda3/lib/python3.7/site-packages/sklearn/linear_model/_logistic.py:940: ConvergenceWarning: lbfgs failed to converge (status=1):\n",
      "STOP: TOTAL NO. of ITERATIONS REACHED LIMIT.\n",
      "\n",
      "Increase the number of iterations (max_iter) or scale the data as shown in:\n",
      "    https://scikit-learn.org/stable/modules/preprocessing.html\n",
      "Please also refer to the documentation for alternative solver options:\n",
      "    https://scikit-learn.org/stable/modules/linear_model.html#logistic-regression\n",
      "  extra_warning_msg=_LOGISTIC_SOLVER_CONVERGENCE_MSG)\n"
     ]
    },
    {
     "data": {
      "text/plain": [
       "'\\nplt.figure()\\nlw = 2\\nplt.plot(fpr[1], tpr[1], color=\\'darkorange\\', lw=lw, label=\\'ROC curve (area = %0.2f)\\' % roc_auc)\\nplt.plot([0, 1], [0, 1], color=\\'navy\\', lw=lw, linestyle=\\'--\\')\\nplt.xlim([0.0, 1.0])\\nplt.ylim([0.0, 1.05])\\nplt.xlabel(\\'False Positive Rate\\')\\nplt.ylabel(\\'True Positive Rate\\')\\nplt.title(\\'ROC Logistic Regression without Interactions\\')\\nplt.legend(loc=\"lower right\")\\nplt.show()\\n'"
      ]
     },
     "execution_count": 5,
     "metadata": {},
     "output_type": "execute_result"
    },
    {
     "data": {
      "image/png": "[encoded data removed]",
      "text/plain": [
       "<Figure size 432x288 with 1 Axes>"
      ]
     },
     "metadata": {
      "needs_background": "light"
     },
     "output_type": "display_data"
    }
   ],
   "source": [
    "#Logistic Regression without Interactions\n",
    "\n",
    "predictors = data.drop([\"target\",\"exampleid\"],axis=1)\n",
    "response = data[\"target\"]\n",
    "x_train_value, x_value, y_train_value, y_value = train_test_split(predictors, response, test_size = 0.45, random_state = 0)\n",
    "model = LogisticRegression()\n",
    "model.fit(x_train_value,y_train_value)\n",
    "pred = model.predict(x_value)\n",
    "proba = model.decision_function(x_value)\n",
    "mse = mean_squared_error(y_value,pred)\n",
    "r2 = r2_score(y_value,pred)\n",
    "\n",
    "print(\"Training R^2: \", r2)\n",
    "print(\"Training MSE: \", mse)\n",
    "\n",
    "tn, fp, fn, tp = confusion_matrix(y_value, pred).ravel()\n",
    "fpr, tpr, __ = roc_curve(pred,proba)\n",
    "roc_auc = auc(fpr, tpr)\n",
    "\n",
    "ax = plt.gca()\n",
    "lr_disp = plot_roc_curve(model, x_value, y_value, ax=ax, alpha=0.8)\n",
    "plt.xlabel('False Positive Rate')\n",
    "plt.ylabel('True Positive Rate')\n",
    "plt.title('ROC Logistic Regression without Interactions')\n",
    "\n",
    "precision = precision_score(y_value, pred)\n",
    "F1 = f1_score(y_value, pred)\n",
    "recall = recall_score(y_value, pred)\n",
    "accuracy = accuracy_score(y_value, pred)\n",
    "print(\"Precision Score: \", precision)\n",
    "print(\"F1 Score: \", F1)\n",
    "print(\"Recall Score: \", recall)\n",
    "print(\"Accuracy Score: \", accuracy)\n",
    "\n",
    "\n",
    "'''\n",
    "plt.figure()\n",
    "lw = 2\n",
    "plt.plot(fpr[1], tpr[1], color='darkorange', lw=lw, label='ROC curve (area = %0.2f)' % roc_auc)\n",
    "plt.plot([0, 1], [0, 1], color='navy', lw=lw, linestyle='--')\n",
    "plt.xlim([0.0, 1.0])\n",
    "plt.ylim([0.0, 1.05])\n",
    "plt.xlabel('False Positive Rate')\n",
    "plt.ylabel('True Positive Rate')\n",
    "plt.title('ROC Logistic Regression without Interactions')\n",
    "plt.legend(loc=\"lower right\")\n",
    "plt.show()\n",
    "'''\n"
   ]
  },
  {
   "cell_type": "code",
   "execution_count": 6,
   "metadata": {},
   "outputs": [
    {
     "name": "stdout",
     "output_type": "stream",
     "text": [
      "Training R^2:  -0.14374026967233222\n",
      "Training MSE:  0.28586666666666666\n",
      "Precision Score:  0.7164429530201343\n",
      "F1 Score:  0.705008255365988\n",
      "Recall Score:  0.6939328277356447\n",
      "Accuracy Score:  0.7141333333333333\n"
     ]
    },
    {
     "data": {
      "image/png": "[encoded data removed]",
      "text/plain": [
       "<Figure size 432x288 with 1 Axes>"
      ]
     },
     "metadata": {
      "needs_background": "light"
     },
     "output_type": "display_data"
    }
   ],
   "source": [
    "#Random Forest for Gini\n",
    "\n",
    "predictors = data.drop([\"target\",\"exampleid\"],axis=1)\n",
    "response = data[\"target\"]\n",
    "x_train_value, x_value, y_train_value, y_value = train_test_split(predictors, response, test_size = 0.45, random_state = 0)\n",
    "Ginirf = RandomForestClassifier(criterion = 'gini')\n",
    "Ginirf.fit(x_train_value,y_train_value)\n",
    "Ginirfpred = Ginirf.predict(x_value)\n",
    "\n",
    "mse = mean_squared_error(y_value,Ginirfpred)\n",
    "r2 = r2_score(y_value,Ginirfpred)\n",
    "\n",
    "print(\"Training R^2: \", r2)\n",
    "print(\"Training MSE: \", mse)\n",
    "\n",
    "precision = precision_score(y_value, Ginirfpred)\n",
    "F1 = f1_score(y_value, Ginirfpred)\n",
    "recall = recall_score(y_value, Ginirfpred)\n",
    "accuracy = accuracy_score(y_value, Ginirfpred)\n",
    "\n",
    "print(\"Precision Score: \", precision)\n",
    "print(\"F1 Score: \", F1)\n",
    "print(\"Recall Score: \", recall)\n",
    "print(\"Accuracy Score: \", accuracy)\n",
    "\n",
    "tn, fp, fn, tp = confusion_matrix(y_value, Ginirfpred).ravel()\n",
    "ax = plt.gca()\n",
    "rfc_disp = plot_roc_curve(Ginirf, x_value, y_value, ax=ax, alpha=0.8)\n",
    "plt.show()\n",
    "\n",
    "#fpr, tpr, _ = roc_curve(Ginirfpred,proba)\n",
    "#roc_auc = auc(fpr, tpr)\n",
    "\n",
    "#plt.figure()\n",
    "#lw = 2\n",
    "#plt.plot(fpr, tpr, color='darkorange',\n",
    " #        lw=lw, label='ROC curve (area = %0.2f)' % roc_auc)\n",
    "#plt.plot([0, 1], [0, 1], color='navy', lw=lw, linestyle='--')\n",
    "#plt.xlim([0.0, 1.0])\n",
    "#plt.ylim([0.0, 1.05])\n",
    "#plt.xlabel('False Positive Rate')\n",
    "#plt.ylabel('True Positive Rate')\n",
    "#plt.title('ROC Logistic Regression without Interactions')\n",
    "#plt.legend(loc=\"lower right\")\n",
    "#plt.show()\n",
    "#t1 = time()\n",
    "#Ginidt = cross_val_score(Ginirf,data,y=response, n_jobs = -1, verbose = 1, scoring = \"accuracy\")\n",
    "#t2 = time()\n",
    "#GinidtMean = Ginidt.mean()\n",
    "#print(\"Mode Run Time\", t1-t0)\n",
    "#print(\"5 fold cross val time\", t2-t1)\n",
    "#print(\"Mean Accuracy\",GinidtMean)\n",
    "\n"
   ]
  },
  {
   "cell_type": "code",
   "execution_count": 7,
   "metadata": {},
   "outputs": [
    {
     "name": "stdout",
     "output_type": "stream",
     "text": [
      "Training R^2:  -0.14374026967233222\n",
      "Training MSE:  0.28586666666666666\n",
      "Precision Score:  0.7164429530201343\n",
      "F1 Score:  0.705008255365988\n",
      "Recall Score:  0.6939328277356447\n",
      "Accuracy Score:  0.7141333333333333\n"
     ]
    },
    {
     "data": {
      "image/png": "[encoded data removed]",
      "text/plain": [
       "<Figure size 432x288 with 1 Axes>"
      ]
     },
     "metadata": {
      "needs_background": "light"
     },
     "output_type": "display_data"
    }
   ],
   "source": [
    "#Random Forest for Entropy\n",
    "\n",
    "predictors = data.drop([\"target\",\"exampleid\"],axis=1)\n",
    "response = data[\"target\"]\n",
    "x_train_value, x_value, y_train_value, y_value = train_test_split(predictors, response, test_size = 0.45, random_state = 0)\n",
    "Entropyrf = RandomForestClassifier(criterion = 'entropy')\n",
    "Entropyrf.fit(x_train_value,y_train_value)\n",
    "Entropyrfpred = Ginirf.predict(x_value)\n",
    "\n",
    "mse = mean_squared_error(y_value,Entropyrfpred)\n",
    "r2 = r2_score(y_value,Entropyrfpred)\n",
    "\n",
    "print(\"Training R^2: \", r2)\n",
    "print(\"Training MSE: \", mse)\n",
    "precision = precision_score(y_value, Entropyrfpred)\n",
    "F1 = f1_score(y_value, Entropyrfpred)\n",
    "recall = recall_score(y_value, Entropyrfpred)\n",
    "accuracy = accuracy_score(y_value, Entropyrfpred)\n",
    "\n",
    "print(\"Precision Score: \", precision)\n",
    "print(\"F1 Score: \", F1)\n",
    "print(\"Recall Score: \", recall)\n",
    "print(\"Accuracy Score: \", accuracy)\n",
    "\n",
    "tn, fp, fn, tp = confusion_matrix(y_value, Entropyrfpred).ravel()\n",
    "ax = plt.gca()\n",
    "rfc_disp = plot_roc_curve(Entropyrf, x_value, y_value, ax=ax, alpha=0.8)\n",
    "plt.show()\n",
    "\n"
   ]
  },
  {
   "cell_type": "code",
   "execution_count": 9,
   "metadata": {},
   "outputs": [
    {
     "name": "stdout",
     "output_type": "stream",
     "text": [
      "Training R^2:  -0.14374026967233222\n",
      "Training MSE:  0.28586666666666666\n"
     ]
    },
    {
     "data": {
      "text/plain": [
       "'\\nprecision = precision_score(y_value, predict)\\nF1 = f1_score(y_value, predict)\\nrecall = recall_score(y_value, predict)\\naccuracy = accuracy_score(y_value, predict)\\n\\nprint(\"Precision Score: \", precision)\\nprint(\"F1 Score: \", F1)\\nprint(\"Recall Score: \", recall)\\nprint(\"Accuracy Score: \", accuracy)\\n\\n#tn, fp, fn, tp = confusion_matrix(y_value, predict).ravel()\\nax = plt.gca()\\nrfc_disp = plot_roc_curve(clf, x_value, y_value, ax=ax, alpha=0.8)\\nplt.show()\\n\\n'"
      ]
     },
     "execution_count": 9,
     "metadata": {},
     "output_type": "execute_result"
    }
   ],
   "source": [
    "#Gradient Boosting\n",
    "predictors = data.drop([\"target\",\"exampleid\"],axis=1)\n",
    "response = data[\"target\"]\n",
    "x_train_value, x_value, y_train_value, y_value = train_test_split(predictors, response, test_size = 0.45, random_state = 0)\n",
    "clf = GradientBoostingRegressor()\n",
    "clf.fit(x_train_value, y_train_value)\n",
    "predict = clf.predict(x_value)\n",
    "rmse = mean_squared_error(y_value, predict)\n",
    "r2 = r2_score(y_value,Entropyrfpred)\n",
    "\n",
    "print(\"Training R^2: \", r2)\n",
    "print(\"Training MSE: \", mse)\n",
    "'''\n",
    "precision = precision_score(y_value, predict)\n",
    "F1 = f1_score(y_value, predict)\n",
    "recall = recall_score(y_value, predict)\n",
    "accuracy = accuracy_score(y_value, predict)\n",
    "\n",
    "print(\"Precision Score: \", precision)\n",
    "print(\"F1 Score: \", F1)\n",
    "print(\"Recall Score: \", recall)\n",
    "print(\"Accuracy Score: \", accuracy)\n",
    "\n",
    "#tn, fp, fn, tp = confusion_matrix(y_value, predict).ravel()\n",
    "ax = plt.gca()\n",
    "rfc_disp = plot_roc_curve(clf, x_value, y_value, ax=ax, alpha=0.8)\n",
    "plt.show()\n",
    "\n",
    "'''\n",
    "\n"
   ]
  },
  {
   "cell_type": "code",
   "execution_count": null,
   "metadata": {},
   "outputs": [],
   "source": []
  }
 ],
 "metadata": {
  "kernelspec": {
   "display_name": "Python 3",
   "language": "python",
   "name": "python3"
  },
  "language_info": {
   "codemirror_mode": {
    "name": "ipython",
    "version": 3
   },
   "file_extension": ".py",
   "mimetype": "text/x-python",
   "name": "python",
   "nbconvert_exporter": "python",
   "pygments_lexer": "ipython3",
   "version": "3.7.4"
  }
 },
 "nbformat": 4,
 "nbformat_minor": 2
}
